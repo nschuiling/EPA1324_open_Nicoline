{
 "cells": [
  {
   "cell_type": "markdown",
   "metadata": {},
   "source": [
    "## Conceptual description\n",
    "\n",
    "Basis idee is een grid waarbij elke grid cell een agent is. Een agent heeft interactie met een random (=proportional to similarity) gekozen neighbor en neem dan een cultural trait over van zijn neighbor. Het originele model is van Axelrod (zie bijgevoegd paper). Er is ondertussen een hele literatuur (zie het Flache paper voor een recente review).  \n",
    "\n",
    "- Space: SingleGrid; an 'excel-like' space with each agent occopying a single grid cell\n",
    "- 1 agent type with attributes: \n",
    "    - **pos**: position (x, y)\n",
    "    - Cultural traits, each with 2 possible values, e.g.: \n",
    "        - **music** = {Rock, Jazz}\n",
    "        - **sports** = {Soccer, Cycling}\n",
    "        - **favorite color** = {Red, Blue}\n",
    "        - **drink** = {Tea, Coffee}\n",
    "    - \n",
    "- Schedule: RandomActivation\n",
    "\n",
    "Agent step:\n",
    "- For each neighbor, calculate the similarity \n",
    "- Proportional to this similarity, pick a 'random' neighbor to interact with (+ noise?)\n",
    "- Randomly pick one differing trait and change it\n",
    "\n",
    "\n",
    "\n",
    "Plot: \n",
    "- 2D grid, coloured based on traits (?) \n",
    "- Number of distinct regions\n"
   ]
  },
  {
   "cell_type": "code",
   "execution_count": 49,
   "metadata": {},
   "outputs": [],
   "source": [
    "from mesa import Model, Agent\n",
    "from mesa.time import RandomActivation\n",
    "from mesa.space import SingleGrid\n",
    "from mesa.datacollection import DataCollector\n",
    "import random\n",
    "import numpy as np\n",
    "\n",
    "class CulturalDiff(Model):\n",
    "    \"\"\"\n",
    "    Model class for the Schelling segregation model.\n",
    "    \n",
    "    Parameters\n",
    "    ----------\n",
    "    height : int\n",
    "             height of grid\n",
    "    width : int\n",
    "            height of grid\n",
    "    seed : int\n",
    "            random seed\n",
    "    \n",
    "    Attributes\n",
    "    ----------\n",
    "    height : int\n",
    "    width : int\n",
    "    density : float\n",
    "    schedule : RandomActivation instance\n",
    "    grid : SingleGrid instance\n",
    "    \n",
    "    \"\"\"\n",
    "\n",
    "    def __init__(self, height=20, width=20, seed=None):\n",
    "        super().__init__(seed=seed)\n",
    "        self.height = height\n",
    "        self.width = width\n",
    "\n",
    "        self.schedule = RandomActivation(self)\n",
    "        self.grid = SingleGrid(width, height, torus=True)\n",
    "\n",
    "        # Fill grid with agents with random traits\n",
    "        \n",
    "        # Note that this implementation does not guarantee some set distribution of traits. \n",
    "        # Therefore, examining the effect of minorities etc is not facilitated.\n",
    "        for cell in self.grid.coord_iter():\n",
    "            agent_music = self.random.choice(['Rock', 'Jazz'])\n",
    "            agent_sport = self.random.choice(['Soccer', 'Cycling'])\n",
    "            agent_color = self.random.choice(['Red', 'Blue'])\n",
    "            agent_drink = self.random.choice(['Tea', 'Coffee'])\n",
    "            \n",
    "            agent = CulturalDiffAgent(cell, self, agent_music, agent_sport,\n",
    "                                      agent_color, agent_drink)\n",
    "            self.grid.position_agent(agent, cell)\n",
    "            self.schedule.add(agent)\n",
    "\n",
    "    def step(self):\n",
    "        \"\"\"\n",
    "        Run one step of the model.\n",
    "        \"\"\"\n",
    "        self.schedule.step()\n",
    "\n",
    "\n",
    "class CulturalDiffAgent(Agent):\n",
    "    \"\"\"\n",
    "    Schelling segregation agent\n",
    "    \n",
    "    Parameters\n",
    "    ----------\n",
    "    pos : tuple of 2 ints\n",
    "          the x,y coordinates in the grid\n",
    "    model : Model instance\n",
    "    \n",
    "    \"\"\"\n",
    "\n",
    "    def __init__(self, pos, model, agent_music, agent_sport, agent_color, agent_drink):\n",
    "        super().__init__(pos, model)\n",
    "        self.pos = pos\n",
    "        self.agent_music = agent_music\n",
    "        self.agent_sport = agent_sport\n",
    "        self.agent_color = agent_color\n",
    "        self.agent_drink = agent_drink\n",
    "        \n",
    "        # Convert traits to [0, 1]\n",
    "        self.color = traits_to_color(self)\n",
    "\n",
    "    def step(self):\n",
    "        \n",
    "        #For each neighbor, calculate the similarity\n",
    "        neighbor_similarity_dict = {}\n",
    "        for neighbor in self.model.grid.neighbor_iter(self.pos, moore=True):\n",
    "            neighbor_similarity = 0\n",
    "            if self.agent_music == neighbor.agent_music: \n",
    "                neighbor_similarity += 1\n",
    "            if self.agent_sport == neighbor.agent_sport:\n",
    "                neighbor_similarity += 1\n",
    "            if self.agent_color == neighbor.agent_color:\n",
    "                neighbor_similarity += 1\n",
    "            if self.agent_drink == neighbor.agent_drink:\n",
    "                neighbor_similarity += 1\n",
    "            neighbor_similarity_dict[str(neighbor)] = neighbor_similarity\n",
    "        \n",
    "        # Proportional to this similarity, pick a 'random' neighbor to interact with\n",
    "        neighbor_to_interact = self.random.choices(list(neighbor_similarity_dict.keys()),\n",
    "                                                   weights=neighbor_similarity_dict.values(), k=1)[0]\n",
    "        \n",
    "        # Select a trait that differs between the selected neighbor and self and change that trait in self\n",
    "        if neighbor_similarity_dict[str(neighbor_to_interact)] != 4: #if 4, then they are already the same\n",
    "            for neighbor in self.model.grid.neighbor_iter(self.pos, moore=True):\n",
    "                if str(neighbor) == neighbor_to_interact:\n",
    "                    traits = ['agent_music', 'agent_sport', 'agent_color', 'agent_drink']\n",
    "                    differing_traits = []\n",
    "                    for trait in traits: \n",
    "                        if getattr(self, trait) != getattr(neighbor, trait):\n",
    "                            differing_traits.append(trait)\n",
    "                    \n",
    "                    trait_to_adopt = self.random.choices(differing_traits)[0]\n",
    "                    trait_to_adopt_value = getattr(neighbor, str(trait_to_adopt))\n",
    "                    \n",
    "                    setattr(self, trait_to_adopt, trait_to_adopt_value)\n",
    "                    \n",
    "        #update color\n",
    "        self.color = traits_to_color(self)"
   ]
  },
  {
   "cell_type": "code",
   "execution_count": 50,
   "metadata": {},
   "outputs": [],
   "source": [
    "def traits_to_color(agent):\n",
    "    \"\"\" Converts the traits of an agent to a list of RGBA values\"\"\"\n",
    "    colors = [0] * 4\n",
    "    if agent.agent_music == 'Rock':\n",
    "        colors[0] = 1\n",
    "            \n",
    "    if agent.agent_sport == 'Soccer':\n",
    "        colors[1] = 1\n",
    "            \n",
    "    if agent.agent_color == 'Red':\n",
    "        colors[2] = 1\n",
    "            \n",
    "    if agent.agent_drink == 'Tea':\n",
    "        colors[3] = 1\n",
    "    else: \n",
    "        colors[3] = 0.2 #Alpha of 0.2 is distinctly different from white and from the alpha = 1 color\n",
    "    \n",
    "    return colors"
   ]
  },
  {
   "cell_type": "markdown",
   "metadata": {},
   "source": [
    "# Visualization"
   ]
  },
  {
   "cell_type": "markdown",
   "metadata": {},
   "source": [
    "## Static images\n",
    "### After initialization"
   ]
  },
  {
   "cell_type": "code",
   "execution_count": 51,
   "metadata": {},
   "outputs": [],
   "source": [
    "model = CulturalDiff(seed=123456789)"
   ]
  },
  {
   "cell_type": "code",
   "execution_count": 52,
   "metadata": {},
   "outputs": [
    {
     "data": {
      "image/png": "[encoded data removed]",
      "text/plain": [
       "<Figure size 864x576 with 1 Axes>"
      ]
     },
     "metadata": {},
     "output_type": "display_data"
    }
   ],
   "source": [
    "import matplotlib.pyplot as plt\n",
    "import matplotlib.colors as colors\n",
    "import seaborn as sns\n",
    "import pandas as pd\n",
    "\n",
    "\n",
    "def plot_model(model, ax):\n",
    "    grid = np.zeros((model.height, model.width, 4))\n",
    "\n",
    "    for (cell, i, j) in model.grid.coord_iter():\n",
    "        value = [0,0,0,0] #in case not every cell is filled, the default colour is white\n",
    "        if cell is not None:\n",
    "            value = cell.color\n",
    "        grid[i,j] = value          \n",
    "    plt.imshow(grid)\n",
    "    \n",
    "fig, ax = plt.subplots()\n",
    "plot_model(model, ax)\n",
    "\n",
    "plt.show()"
   ]
  },
  {
   "cell_type": "markdown",
   "metadata": {},
   "source": [
    "### After 20 steps"
   ]
  },
  {
   "cell_type": "code",
   "execution_count": 53,
   "metadata": {},
   "outputs": [],
   "source": [
    "for i in range(20):\n",
    "    model.step()"
   ]
  },
  {
   "cell_type": "code",
   "execution_count": 54,
   "metadata": {},
   "outputs": [
    {
     "data": {
      "image/png": "[encoded data removed]",
      "text/plain": [
       "<Figure size 864x576 with 1 Axes>"
      ]
     },
     "metadata": {},
     "output_type": "display_data"
    }
   ],
   "source": [
    "fig, ax = plt.subplots()\n",
    "plot_model(model, ax)\n",
    "\n",
    "plt.show()"
   ]
  },
  {
   "cell_type": "markdown",
   "metadata": {},
   "source": [
    "### After 50 steps"
   ]
  },
  {
   "cell_type": "code",
   "execution_count": 55,
   "metadata": {},
   "outputs": [],
   "source": [
    "for i in range(30):\n",
    "    model.step()"
   ]
  },
  {
   "cell_type": "code",
   "execution_count": 56,
   "metadata": {},
   "outputs": [
    {
     "data": {
      "image/png": "[encoded data removed]",
      "text/plain": [
       "<Figure size 864x576 with 1 Axes>"
      ]
     },
     "metadata": {},
     "output_type": "display_data"
    }
   ],
   "source": [
    "fig, ax = plt.subplots()\n",
    "plot_model(model, ax)\n",
    "\n",
    "plt.show()"
   ]
  },
  {
   "cell_type": "markdown",
   "metadata": {},
   "source": [
    "### After 200 steps"
   ]
  },
  {
   "cell_type": "code",
   "execution_count": 57,
   "metadata": {},
   "outputs": [],
   "source": [
    "for i in range(150):\n",
    "    model.step()"
   ]
  },
  {
   "cell_type": "code",
   "execution_count": 58,
   "metadata": {},
   "outputs": [
    {
     "data": {
      "image/png": "[encoded data removed]",
      "text/plain": [
       "<Figure size 864x576 with 1 Axes>"
      ]
     },
     "metadata": {},
     "output_type": "display_data"
    }
   ],
   "source": [
    "fig, ax = plt.subplots()\n",
    "plot_model(model, ax)\n",
    "\n",
    "plt.show()"
   ]
  },
  {
   "cell_type": "code",
   "execution_count": null,
   "metadata": {},
   "outputs": [],
   "source": []
  }
 ],
 "metadata": {
  "kernelspec": {
   "display_name": "Python 3",
   "language": "python",
   "name": "python3"
  },
  "language_info": {
   "codemirror_mode": {
    "name": "ipython",
    "version": 3
   },
   "file_extension": ".py",
   "mimetype": "text/x-python",
   "name": "python",
   "nbconvert_exporter": "python",
   "pygments_lexer": "ipython3",
   "version": "3.8.5"
  }
 },
 "nbformat": 4,
 "nbformat_minor": 4
}
