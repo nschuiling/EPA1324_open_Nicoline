{
 "cells": [
  {
   "cell_type": "markdown",
   "metadata": {},
   "source": [
    "## Conceptual description\n",
    "\n",
    "Basis idee is een grid waarbij elke grid cell een agent is. Een agent heeft interactie met een random (=proportional to similarity) gekozen neighbor en neem dan een cultural trait over van zijn neighbor. Het originele model is van Axelrod (zie bijgevoegd paper). Er is ondertussen een hele literatuur (zie het Flache paper voor een recente review).  \n",
    "\n",
    "discrete traits but implemented via numpy binary arrays\n",
    "\n"
   ]
  },
  {
   "cell_type": "code",
   "execution_count": 55,
   "metadata": {},
   "outputs": [],
   "source": [
    "import collections\n",
    "import random\n",
    "\n",
    "import numpy as np\n",
    "\n",
    "from mesa import Model, Agent\n",
    "from mesa.time import RandomActivation\n",
    "from mesa.space import SingleGrid\n",
    "from mesa.datacollection import DataCollector\n",
    "\n",
    "class CulturalDiff(Model):\n",
    "    \"\"\"\n",
    "    Model class for the Schelling segregation model.\n",
    "    \n",
    "    Parameters\n",
    "    ----------\n",
    "    height : int\n",
    "             height of grid\n",
    "    width : int\n",
    "            height of grid\n",
    "    seed : int\n",
    "            random seed\n",
    "    \n",
    "    Attributes\n",
    "    ----------\n",
    "    height : int\n",
    "    width : int\n",
    "    density : float\n",
    "    schedule : RandomActivation instance\n",
    "    grid : SingleGrid instance\n",
    "    \n",
    "    \"\"\"\n",
    "\n",
    "    def __init__(self, height=20, width=20, seed=None):\n",
    "        super().__init__(seed=seed)\n",
    "        self.height = height\n",
    "        self.width = width\n",
    "\n",
    "        self.schedule = RandomActivation(self)\n",
    "        self.grid = SingleGrid(width, height, torus=True)\n",
    "        self.datacollector = DataCollector(model_reporters={'diversity':calculate_nr_of_cultures})\n",
    "\n",
    "        # Fill grid with agents with random traits\n",
    "        \n",
    "        # Note that this implementation does not guarantee some set distribution of traits. \n",
    "        # Therefore, examining the effect of minorities etc is not facilitated.\n",
    "        for cell in self.grid.coord_iter():\n",
    "            profile = np.asarray([self.random.choice([0,1]) for _ in range(4)])\n",
    "            \n",
    "            agent = CulturalDiffAgent(cell, self, profile)\n",
    "            self.grid.position_agent(agent, cell)\n",
    "            self.schedule.add(agent)\n",
    "\n",
    "\n",
    "    def step(self):\n",
    "        \"\"\"\n",
    "        Run one step of the model.\n",
    "        \"\"\"\n",
    "        self.datacollector.collect(self)\n",
    "        self.schedule.step()\n",
    "        \n",
    "\n",
    "\n",
    "class CulturalDiffAgent(Agent):\n",
    "    \"\"\"\n",
    "    Schelling segregation agent\n",
    "    \n",
    "    Parameters\n",
    "    ----------\n",
    "    pos : tuple of 2 ints\n",
    "          the x,y coordinates in the grid\n",
    "    model : Model instance\n",
    "    profile : ndarray\n",
    "    \n",
    "    \"\"\"\n",
    "\n",
    "    def __init__(self, pos, model, profile):\n",
    "        super().__init__(pos, model)\n",
    "        self.pos = pos\n",
    "        self.profile = profile\n",
    "        \n",
    "    def step(self):\n",
    "        \n",
    "        #For each neighbor, calculate the similarity\n",
    "        neighbor_similarity_dict = {}\n",
    "        for neighbor in self.model.grid.neighbor_iter(self.pos, moore=True):\n",
    "            neighbor_similarity = np.sum(self.profile==neighbor.profile)\n",
    "            neighbor_similarity_dict[neighbor] = neighbor_similarity\n",
    "        \n",
    "        # Proportional to this similarity, pick a 'random' neighbor to interact with\n",
    "        neighbors, weights = zip(*[(k,v) for k,v in neighbor_similarity_dict.items()])\n",
    "        neighbor_to_interact = self.random.choices(neighbors, weights=weights)[0]\n",
    "        \n",
    "        # Select a trait that differs between the selected neighbor and self and\n",
    "        # change that trait in self\n",
    "        # we are using some numpy boolean indexing to make this short and easy\n",
    "        not_same_features = self.profile != neighbor_to_interact.profile\n",
    "        \n",
    "        if np.any(not_same_features):\n",
    "            index_for_trait = self.random.choice(np.nonzero(not_same_features)[0])\n",
    "            self.profile[index_for_trait] = neighbor_to_interact.profile[index_for_trait]\n",
    "\n",
    "\n",
    "def traits_to_color(profile):  \n",
    "    \"\"\" Converts the traits of an agent to a list of RGBA values\"\"\"\n",
    "    color = profile.copy().astype(float)\n",
    "    if color[-1]==0:\n",
    "        color[-1] = 0.2\n",
    "    return color\n",
    "\n",
    "\n",
    "def calculate_nr_of_cultures(model):\n",
    "    diversity = collections.defaultdict(int)\n",
    "    for (cell, i, j) in model.grid.coord_iter():\n",
    "        if cell:\n",
    "            diversity[tuple(cell.profile)] += 1\n",
    "\n",
    "    return len(diversity.keys())"
   ]
  },
  {
   "cell_type": "markdown",
   "metadata": {},
   "source": [
    "# Visualization"
   ]
  },
  {
   "cell_type": "markdown",
   "metadata": {},
   "source": [
    "## Static images\n",
    "### After initialization"
   ]
  },
  {
   "cell_type": "code",
   "execution_count": 56,
   "metadata": {},
   "outputs": [
    {
     "data": {
      "image/png": "[encoded data removed]",
      "text/plain": [
       "<Figure size 864x576 with 1 Axes>"
      ]
     },
     "metadata": {},
     "output_type": "display_data"
    }
   ],
   "source": [
    "import matplotlib.pyplot as plt\n",
    "import matplotlib.colors as colors\n",
    "import seaborn as sns\n",
    "import pandas as pd\n",
    "\n",
    "model = CulturalDiff(seed=123456789)\n",
    "\n",
    "\n",
    "def make_image(model):\n",
    "    grid = np.zeros((model.height, model.width, 4))\n",
    "\n",
    "    for (cell, i, j) in model.grid.coord_iter():\n",
    "        color = [0,0,0,0] #in case not every cell is filled, the default colour is white\n",
    "        if cell is not None:\n",
    "            color = traits_to_color(cell.profile)\n",
    "        grid[i,j] = color  \n",
    "    return grid\n",
    "\n",
    "def plot_model(model, ax):\n",
    "    grid = make_image(model)\n",
    "       \n",
    "    image = ax.imshow(grid)\n",
    "    return image\n",
    "    \n",
    "fig, ax = plt.subplots()\n",
    "image = plot_model(model, ax)\n",
    "\n",
    "plt.show()"
   ]
  },
  {
   "cell_type": "code",
   "execution_count": 57,
   "metadata": {},
   "outputs": [],
   "source": [
    "for _ in range(250):\n",
    "    model.step()"
   ]
  },
  {
   "cell_type": "code",
   "execution_count": 59,
   "metadata": {},
   "outputs": [
    {
     "data": {
      "text/plain": [
       "<AxesSubplot:>"
      ]
     },
     "execution_count": 59,
     "metadata": {},
     "output_type": "execute_result"
    },
    {
     "data": {
      "image/png": "[encoded data removed]",
      "text/plain": [
       "<Figure size 864x576 with 1 Axes>"
      ]
     },
     "metadata": {},
     "output_type": "display_data"
    }
   ],
   "source": [
    "model.datacollector.get_model_vars_dataframe().plot()"
   ]
  },
  {
   "cell_type": "code",
   "execution_count": 29,
   "metadata": {},
   "outputs": [
    {
     "data": {
      "image/png": "[encoded data removed]",
      "text/plain": [
       "<Figure size 864x576 with 1 Axes>"
      ]
     },
     "metadata": {},
     "output_type": "display_data"
    }
   ],
   "source": [
    "from matplotlib.animation import FuncAnimation\n",
    "from matplotlib import animation\n",
    "\n",
    "model = CulturalDiff(32, 32, seed=987654321)\n",
    "agents = model.schedule.agents\n",
    "\n",
    "\n",
    "sns.set_style('white')\n",
    "\n",
    "fig, ax = plt.subplots()\n",
    "image = plot_model(model, ax)\n",
    "\n",
    "def update(frame):\n",
    "    model.step()\n",
    "    grid = make_image(model)\n",
    "    image.set_array(grid)\n",
    "    return [image]\n",
    "\n",
    "anim = FuncAnimation(fig, update, frames=500);\n",
    "writervideo = animation.FFMpegWriter(fps=12) \n",
    "anim.save(\"diffusion.mp4\", writer=writervideo)\n"
   ]
  },
  {
   "cell_type": "code",
   "execution_count": 30,
   "metadata": {},
   "outputs": [
    {
     "data": {
      "text/html": [
       "<video src=\"diffusion.mp4\" controls  width=\"600\" >\n",
       "      Your browser does not support the <code>video</code> element.\n",
       "    </video>"
      ],
      "text/plain": [
       "<IPython.core.display.Video object>"
      ]
     },
     "execution_count": 30,
     "metadata": {},
     "output_type": "execute_result"
    }
   ],
   "source": [
    "from IPython.display import Video\n",
    "\n",
    "Video(\"diffusion.mp4\", width=600)"
   ]
  },
  {
   "cell_type": "code",
   "execution_count": null,
   "metadata": {},
   "outputs": [],
   "source": []
  }
 ],
 "metadata": {
  "kernelspec": {
   "display_name": "Python 3",
   "language": "python",
   "name": "python3"
  },
  "language_info": {
   "codemirror_mode": {
    "name": "ipython",
    "version": 3
   },
   "file_extension": ".py",
   "mimetype": "text/x-python",
   "name": "python",
   "nbconvert_exporter": "python",
   "pygments_lexer": "ipython3",
   "version": "3.8.5"
  }
 },
 "nbformat": 4,
 "nbformat_minor": 4
}
