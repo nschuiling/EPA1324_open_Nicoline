{
 "cells": [
  {
   "cell_type": "markdown",
   "id": "ec162e16-d7bb-402f-8515-07c2cc64b0b6",
   "metadata": {},
   "source": [
    "## MESA\n",
    "\n",
    "Mesa is an agent-based modeling (or ABM) framework in Python. It enables users to quickly develop ABMs. It provides a variety of convenience components often used in ABMs, like different kinds of spaces within which agents can interact, different kinds of schedulers for controlling which agents in what order are making their moves, and basic support for dealing with the intrinsic stochastic nature of ABMs. MESA is ideally suited for learning agent-based modeling. It is less suited for developing large-scale computationally heavy ABMs. Given that MESA is a python library, and its focus is on learning ABM, we have chosen to use MESA. The documentation of MESA can be found online: https://mesa.readthedocs.io/en/master/. Besides this tutorial, we recommend you to use it when you are making your assignments for more detailed information.\n",
    "\n",
    "\n",
    "Any Agent Based Model is typically composed of a collection of **Agents**, which are positioned in a **Space**. The Agents interact with each other typically based on how close they are in the Space. Sometimes they also interact with the Space itself. Agent Based Models are dynamic so they show some kind of pattern over time. To create this dynamic, Agent Based Models use **ticks**. A tick is like a timestep. In each tick, all agents are given the option to act. The order in which Agents can act is very important because Agent Based Models are prone to showing path dependence. Therefore, the order in which agents get to act is typcially handled by a **Scheduler**. \n",
    "\n",
    "Let's build a very simple Agent Based Model, using MESA which contains these four components: Agents, Space, Schedulers, and ticks. The model we will build is a simple model of an economy. It consists of a collection of agents which move around randomly in a grid like space. If, after having moved, an agent find itself in a gridcell occopied by  other agents, the agent will give one unit of wealth to a randomly selected other agent in the same grid cell. \n",
    "\n",
    "To implement this model, we will extend the Agent and Model class provided by MESA. As space, we will use a MultiGrid. This is a gridd (think excel-like) space where more than one agent can occupy the same cell. As scheduler, we will use the RandomActiviation. This means that at each tick, all agents in a random order get to make their move. \n",
    "\n",
    "So we start with importing the classes from MESA that we need."
   ]
  },
  {
   "cell_type": "code",
   "execution_count": 1,
   "id": "43c4f659-5b4b-4e79-baf5-aa0588bf659e",
   "metadata": {},
   "outputs": [],
   "source": [
    "from mesa import Agent, Model\n",
    "from mesa.time import RandomActivation\n",
    "from mesa.space import MultiGrid"
   ]
  },
  {
   "cell_type": "markdown",
   "id": "37c35fd6-2e3c-495e-b0b9-8c94f0821143",
   "metadata": {},
   "source": [
    "Next, we can extend the MESA Model class. For this, we have to implement the `__init__` and the `step` method. The `__init__` is the initial setup of the model (tick=0). So we give our model a space (i.e., `self.space = MultiGrid(width, height, True)`. We also give the model a scheduler (i.e., `self.scheduler = RandomActivation(self)`. Last, we need to populate the grid with agents. We do this by first creating an Agend and next placing it at a randomly selected grid cell (i.e., in the for loop). The step method is short: we just invoke the step method on the scheduler (i.e., `self.scheduler.step()`). "
   ]
  },
  {
   "cell_type": "code",
   "execution_count": 11,
   "id": "e143a557-9848-4356-a409-769154a80b3a",
   "metadata": {},
   "outputs": [],
   "source": [
    "class MoneyModel(Model):\n",
    "    \"\"\"A model with some number of agents.\n",
    "    \n",
    "    Parameters\n",
    "    N : int\n",
    "        the number of agents in the space\n",
    "    width : int\n",
    "            the width of the space\n",
    "    height : int\n",
    "             the height of the space\n",
    "    \"\"\"\n",
    "    def __init__(self, N, width, height):\n",
    "        self.num_agents = N\n",
    "        \n",
    "        # the space within which agents move\n",
    "        self.space = MultiGrid(width, height, True)\n",
    "        \n",
    "        # the scheduler\n",
    "        self.scheduler = RandomActivation(self)\n",
    "\n",
    "        # initialize the model by creating N agents\n",
    "        # positioned at a random location in the grid\n",
    "        for i in range(self.num_agents):\n",
    "            agent = MoneyAgent(i, self)\n",
    "            self.scheduler.add(agent)\n",
    "            \n",
    "            # Add the agent to a random grid cell\n",
    "            x = self.random.randrange(self.space.width)\n",
    "            y = self.random.randrange(self.space.height)\n",
    "            self.space.place_agent(agent, (x, y))\n",
    "\n",
    "    def step(self):\n",
    "        self.scheduler.step()\n"
   ]
  },
  {
   "cell_type": "markdown",
   "id": "71dad976-42f4-43b3-8798-db7cdc2b885a",
   "metadata": {
    "tags": []
   },
   "source": [
    "We also need to extend the Agent class that comes with MESA. In the simplest version, we would again only need to implement the `__init__` and the `step` method. However, in this case, we seperate the `step` method into 2 activities: moving to a randomly selected neighboring cell, and possible giving money. We place both activities in their own methods to clearly seperate these two actions (i.e., we add a `move` and `give_money` method to the Agent class). \n",
    "\n",
    "For the move method, we can use the grid of the model to get the neigboring cells, randomly pick one, and then inform the grid to move the agent to this randomly selected grid cell. Perhaps counterintuitively, the Agent does not change its own location. Instead, the grid space moves the Agent through the MESA-method move_agent.\n",
    "\n",
    "For the `give_money` method, we ask the grid for a list of all agents occuping our current grid cell (with `get_cell_list_contents`). This method is only invoked if the agent has any wealth to give. If not, nothing happens. If there is more than one agent, we randomly select one agent to give wealth to.\n",
    "\n",
    "Question: look carefully at the give_money method. Do you notice anything odd in how this is currently implemented?"
   ]
  },
  {
   "cell_type": "markdown",
   "id": "e5c58a3a-bbcd-4bef-b8ce-3363ee07fbca",
   "metadata": {
    "jupyter": {
     "source_hidden": true
    },
    "tags": []
   },
   "source": [
    "answer: the agent randomly select from the list of agents currently occupying the cell. This list includes also itself, so the agent might give wealth to itself."
   ]
  },
  {
   "cell_type": "code",
   "execution_count": 12,
   "id": "5186e6ca-895b-4335-bad6-e79d0777b002",
   "metadata": {},
   "outputs": [],
   "source": [
    "\n",
    "class MoneyAgent(Agent):\n",
    "    \"\"\" An agent with fixed initial wealth.\"\"\"\n",
    "    def __init__(self, unique_id, model):\n",
    "        super().__init__(unique_id, model)\n",
    "        self.wealth = 1\n",
    "\n",
    "    def move(self):\n",
    "        possible_steps = self.model.space.get_neighborhood(\n",
    "            self.pos, moore=True, include_center=False)\n",
    "        new_position = self.random.choice(possible_steps)\n",
    "        self.model.space.move_agent(self, new_position)\n",
    "\n",
    "    def give_money(self):\n",
    "        cellmates = self.model.space.get_cell_list_contents([self.pos])\n",
    "        if len(cellmates) > 1:\n",
    "            other = self.random.choice(cellmates)\n",
    "            other.wealth += 1\n",
    "            self.wealth -= 1\n",
    "\n",
    "    def step(self):\n",
    "        self.move()\n",
    "        if self.wealth > 0:\n",
    "            self.give_money()"
   ]
  },
  {
   "cell_type": "markdown",
   "id": "d886134e-7a27-46db-99a6-054aafa65287",
   "metadata": {},
   "source": [
    "This completes the setup of the model. We can now instantiate the model, and run it for a number of ticks"
   ]
  },
  {
   "cell_type": "code",
   "execution_count": 13,
   "id": "b66a52a5-9423-4969-9aa1-1f174abf776d",
   "metadata": {},
   "outputs": [],
   "source": [
    "width = 10\n",
    "height = 10\n",
    "n_agents = 80\n",
    "model = MoneyModel(n_agents, width, height)\n",
    "n_ticks = 10\n",
    "for _ in range(n_ticks):\n",
    "    model.step()"
   ]
  },
  {
   "cell_type": "markdown",
   "id": "f5d896d4-aa76-40a9-8af0-689d9c2c30b6",
   "metadata": {},
   "source": [
    "As a last step, we can visualize the model results. For example, we can show a histogram of the distribution of wealth over the agents like this"
   ]
  },
  {
   "cell_type": "code",
   "execution_count": 18,
   "id": "c9c4529e-fbf1-45cd-8222-ad29c1f8aadf",
   "metadata": {},
   "outputs": [
    {
     "data": {
      "image/png": "[encoded data removed]",
      "text/plain": [
       "<Figure size 864x576 with 1 Axes>"
      ]
     },
     "metadata": {},
     "output_type": "display_data"
    }
   ],
   "source": [
    "import numpy as np\n",
    "import matplotlib.pyplot as plt\n",
    "import seaborn as sns\n",
    "\n",
    "sns.set_style('white')\n",
    "\n",
    "agent_wealth = [a.wealth for a in model.scheduler.agents]\n",
    "\n",
    "fig, ax = plt.subplots()\n",
    "\n",
    "ax.hist(agent_wealth)\n",
    "ax.set_ylabel('# agents')\n",
    "ax.set_xlabel('wealth')\n",
    "\n",
    "sns.despine()\n",
    "\n",
    "plt.show()\n"
   ]
  },
  {
   "cell_type": "markdown",
   "id": "f5cabc3b-5162-4b4c-afe2-cea697d8e02b",
   "metadata": {},
   "source": [
    "We can also take a look at the grid itself like this:"
   ]
  },
  {
   "cell_type": "code",
   "execution_count": 16,
   "id": "63e0c8eb-98b5-4a4d-903a-f669d796fc9c",
   "metadata": {},
   "outputs": [
    {
     "data": {
      "image/png": "[encoded data removed]",
      "text/plain": [
       "<Figure size 864x576 with 2 Axes>"
      ]
     },
     "metadata": {},
     "output_type": "display_data"
    }
   ],
   "source": [
    "fig, ax = plt.subplots()\n",
    "\n",
    "agent_counts = np.zeros((model.space.width, model.space.height))\n",
    "for cell in model.space.coord_iter():\n",
    "    cell_content, x, y = cell\n",
    "    agent_count = len(cell_content)\n",
    "    agent_counts[x][y] = agent_count\n",
    "img = ax.imshow(agent_counts, interpolation='nearest')\n",
    "fig.colorbar(img, ax=ax)\n",
    "plt.show()"
   ]
  },
  {
   "cell_type": "markdown",
   "id": "b9ad1af3-a879-4ee0-b826-d5b8078a28e6",
   "metadata": {},
   "source": [
    "Question: run the model a few times and replot the results. Do you notice anything strange and can you explain this?"
   ]
  },
  {
   "cell_type": "markdown",
   "id": "6e10c355-fa36-4efd-8fc1-c373aeee71e6",
   "metadata": {
    "jupyter": {
     "source_hidden": true
    },
    "tags": []
   },
   "source": [
    "Answer: There is quite some randomness in the model: where the original agents are located, where they move to, and to whom to give wealth. Everytime you rerun the model different random numbers are used and thus you get different results. This is a key and important difference with system dynamics models. ABMs are stochastic, while SD models are deterministic. In future assignments, we will look at this in more detail and also show how we can control the random numbers that are being generated so that the model becomes deterministic. This is desirable for debugging and reproducibility."
   ]
  },
  {
   "cell_type": "code",
   "execution_count": null,
   "id": "53e2708c-9a83-4bb0-a988-226d1ffd1739",
   "metadata": {},
   "outputs": [],
   "source": []
  }
 ],
 "metadata": {
  "kernelspec": {
   "display_name": "Python 3 (ipykernel)",
   "language": "python",
   "name": "python3"
  },
  "language_info": {
   "codemirror_mode": {
    "name": "ipython",
    "version": 3
   },
   "file_extension": ".py",
   "mimetype": "text/x-python",
   "name": "python",
   "nbconvert_exporter": "python",
   "pygments_lexer": "ipython3",
   "version": "3.8.5"
  }
 },
 "nbformat": 4,
 "nbformat_minor": 5
}
