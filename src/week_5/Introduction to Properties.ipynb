{
 "cells": [
  {
   "cell_type": "markdown",
   "id": "8c771c33-b09f-423f-a9e3-7a1668e58137",
   "metadata": {},
   "source": [
    "\n",
    "\n",
    "attributes (class versus instance), method resolution order\n",
    "getattr setattr\n",
    "properties and descriptors\n",
    "\n",
    "\n",
    "link it to behavior and state\n",
    "\n",
    "setters are methods for updating state, while methods in python should be used for behavior\n",
    "\n",
    "so can we update state as an assignment (rather than method invocation)?\n",
    "\n",
    "other use cases for this"
   ]
  },
  {
   "cell_type": "markdown",
   "id": "8c2b49e6-121a-4d8b-98f9-b08b3d543516",
   "metadata": {},
   "source": [
    "\n",
    "Agents are objects, so they are characterized by state and behavior. State is handled through attributes, while behavior is handled through methods. But what about the following situation: we would like to update the state of an object, but the possible values that this state might take is constrained. We would ideally like to raise an error if the state is being updated to an incorrect number. How can we do this in Python?\n",
    "\n",
    "To make this question more concrete, consider the following example. We have a Temperature class which stores temperature in Celsius, and from there can convert it into both Kelvin and Fahrenheit. The lowest possible temperature in Celcius is -273.15. So if we were to pass a value lower then this, we would want to see an error. Let's start with a simple implementation and take it from there."
   ]
  },
  {
   "cell_type": "code",
   "execution_count": 5,
   "id": "0acb81a0-5ed4-413e-9411-26c7f516235b",
   "metadata": {},
   "outputs": [
    {
     "name": "stdout",
     "output_type": "stream",
     "text": [
      "32.0\n",
      "273.15\n"
     ]
    }
   ],
   "source": [
    "class Celsius:\n",
    "    \n",
    "    def __init__(self, temperature=0):\n",
    "        self.temperature = temperature\n",
    "        \n",
    "    def to_fahrenheit(self):\n",
    "        return (self.temperature * 1.8) + 32\n",
    "    \n",
    "    def to_kelvin(self):\n",
    "        return self.temperature + 273.15\n",
    "    \n",
    "temperature = Celsius()\n",
    "print(temperature.to_fahrenheit())\n",
    "print(temperature.to_kelvin())"
   ]
  },
  {
   "cell_type": "markdown",
   "id": "af0e1f2d-e79d-407d-b484-f10523d3ee7c",
   "metadata": {},
   "source": [
    "So far, so good. But what happens if we try to create a Celcius instance with -300?"
   ]
  },
  {
   "cell_type": "code",
   "execution_count": 8,
   "id": "83f5a36a-9568-4432-8220-1cfe96cca707",
   "metadata": {},
   "outputs": [
    {
     "name": "stdout",
     "output_type": "stream",
     "text": [
      "-508.0\n",
      "-26.850000000000023\n"
     ]
    }
   ],
   "source": [
    "temperature = Celsius(temperature=-300)\n",
    "print(temperature.to_fahrenheit())\n",
    "print(temperature.to_kelvin())"
   ]
  },
  {
   "cell_type": "markdown",
   "id": "b7017fea-db7a-4c05-9210-77a6580e2efc",
   "metadata": {},
   "source": [
    "We get negative Kelvin, which of course can't happen. So how to fix this? An easy first fix would be to check explicitly whether the temperature keyword argument in the `__init__` is valid and raise an error otherwise. "
   ]
  },
  {
   "cell_type": "code",
   "execution_count": 12,
   "id": "f9a09c7c-6b68-4aec-b2ec-8c26cc5dd397",
   "metadata": {},
   "outputs": [
    {
     "name": "stdout",
     "output_type": "stream",
     "text": [
      "32.0\n",
      "273.15\n"
     ]
    },
    {
     "ename": "ValueError",
     "evalue": "temperature cannot be lower then -273.15 Celsius",
     "output_type": "error",
     "traceback": [
      "\u001b[0;31m---------------------------------------------------------------------------\u001b[0m",
      "\u001b[0;31mValueError\u001b[0m                                Traceback (most recent call last)",
      "\u001b[0;32m/var/folders/_t/l6cr0r0d1m108xdrmrtz7stsb_csl0/T/ipykernel_36330/2625462456.py\u001b[0m in \u001b[0;36m<module>\u001b[0;34m\u001b[0m\n\u001b[1;32m     21\u001b[0m \u001b[0;34m\u001b[0m\u001b[0m\n\u001b[1;32m     22\u001b[0m \u001b[0;34m\u001b[0m\u001b[0m\n\u001b[0;32m---> 23\u001b[0;31m \u001b[0mtemperature\u001b[0m \u001b[0;34m=\u001b[0m \u001b[0mCelsius\u001b[0m\u001b[0;34m(\u001b[0m\u001b[0mtemperature\u001b[0m\u001b[0;34m=\u001b[0m\u001b[0;34m-\u001b[0m\u001b[0;36m300\u001b[0m\u001b[0;34m)\u001b[0m\u001b[0;34m\u001b[0m\u001b[0;34m\u001b[0m\u001b[0m\n\u001b[0m\u001b[1;32m     24\u001b[0m \u001b[0mprint\u001b[0m\u001b[0;34m(\u001b[0m\u001b[0mtemperature\u001b[0m\u001b[0;34m.\u001b[0m\u001b[0mto_fahrenheit\u001b[0m\u001b[0;34m(\u001b[0m\u001b[0;34m)\u001b[0m\u001b[0;34m)\u001b[0m\u001b[0;34m\u001b[0m\u001b[0;34m\u001b[0m\u001b[0m\n\u001b[1;32m     25\u001b[0m \u001b[0mprint\u001b[0m\u001b[0;34m(\u001b[0m\u001b[0mtemperature\u001b[0m\u001b[0;34m.\u001b[0m\u001b[0mto_kelvin\u001b[0m\u001b[0;34m(\u001b[0m\u001b[0;34m)\u001b[0m\u001b[0;34m)\u001b[0m\u001b[0;34m\u001b[0m\u001b[0;34m\u001b[0m\u001b[0m\n",
      "\u001b[0;32m/var/folders/_t/l6cr0r0d1m108xdrmrtz7stsb_csl0/T/ipykernel_36330/2625462456.py\u001b[0m in \u001b[0;36m__init__\u001b[0;34m(self, temperature)\u001b[0m\n\u001b[1;32m      4\u001b[0m     \u001b[0;32mdef\u001b[0m \u001b[0m__init__\u001b[0m\u001b[0;34m(\u001b[0m\u001b[0mself\u001b[0m\u001b[0;34m,\u001b[0m \u001b[0mtemperature\u001b[0m\u001b[0;34m=\u001b[0m\u001b[0;36m0\u001b[0m\u001b[0;34m)\u001b[0m\u001b[0;34m:\u001b[0m\u001b[0;34m\u001b[0m\u001b[0;34m\u001b[0m\u001b[0m\n\u001b[1;32m      5\u001b[0m         \u001b[0;32mif\u001b[0m \u001b[0mtemperature\u001b[0m \u001b[0;34m<\u001b[0m \u001b[0mself\u001b[0m\u001b[0;34m.\u001b[0m\u001b[0mlowest\u001b[0m\u001b[0;34m:\u001b[0m\u001b[0;34m\u001b[0m\u001b[0;34m\u001b[0m\u001b[0m\n\u001b[0;32m----> 6\u001b[0;31m             raise ValueError(\"temperature cannot be lower \"\n\u001b[0m\u001b[1;32m      7\u001b[0m                              f\"then {self.lowest} Celsius\")\n\u001b[1;32m      8\u001b[0m \u001b[0;34m\u001b[0m\u001b[0m\n",
      "\u001b[0;31mValueError\u001b[0m: temperature cannot be lower then -273.15 Celsius"
     ]
    }
   ],
   "source": [
    "class Celsius:\n",
    "    lowest = -273.15\n",
    "    \n",
    "    def __init__(self, temperature=0):\n",
    "        if temperature < self.lowest:\n",
    "            raise ValueError(\"temperature cannot be lower \"\n",
    "                             f\"then {self.lowest} Celsius\")\n",
    "        \n",
    "        self.temperature = temperature\n",
    "        \n",
    "    def to_fahrenheit(self):\n",
    "        return (self.temperature * 1.8) + 32\n",
    "    \n",
    "    def to_kelvin(self):\n",
    "        return self.temperature + (-1*self.lowest)\n",
    "    \n",
    "temperature = Celsius()\n",
    "print(temperature.to_fahrenheit())\n",
    "print(temperature.to_kelvin())\n",
    "\n",
    "    \n",
    "temperature = Celsius(temperature=-300)\n",
    "print(temperature.to_fahrenheit())\n",
    "print(temperature.to_kelvin())"
   ]
  },
  {
   "cell_type": "markdown",
   "id": "f4bb5be4-e159-48ce-99ae-571aeb8fb0c0",
   "metadata": {},
   "source": [
    "This simple check seem to have fixed the problem. However, what happens if we try to update the value of the temperature attribute after having created the Celsius instance?"
   ]
  },
  {
   "cell_type": "code",
   "execution_count": 13,
   "id": "4ccbeac8-738f-4fb6-9190-ace335ee3243",
   "metadata": {},
   "outputs": [
    {
     "name": "stdout",
     "output_type": "stream",
     "text": [
      "-508.0\n",
      "-26.850000000000023\n"
     ]
    }
   ],
   "source": [
    "temperature = Celsius()\n",
    "temperature.temperature = -300\n",
    "print(temperature.to_fahrenheit())\n",
    "print(temperature.to_kelvin())"
   ]
  },
  {
   "cell_type": "markdown",
   "id": "1de9f727-c0f0-461a-804b-9f7bb087a133",
   "metadata": {},
   "source": [
    "This does not raise an error at all. The explanation for this is that we only check if the temperature value is valid when we instantiate the Celsius object, but not when updating the value of the attribute. Ideally we would want to check in both situations. How can we do this?\n",
    "\n",
    "A first simple idea would be to have a method that we can use for updating the temperature like this"
   ]
  },
  {
   "cell_type": "code",
   "execution_count": 17,
   "id": "20cd7a27-b453-4876-bf9e-203e525dd6fe",
   "metadata": {},
   "outputs": [
    {
     "name": "stdout",
     "output_type": "stream",
     "text": [
      "32.0\n",
      "273.15\n"
     ]
    },
    {
     "ename": "ValueError",
     "evalue": "temperature cannot be lower then -273.15 Celsius",
     "output_type": "error",
     "traceback": [
      "\u001b[0;31m---------------------------------------------------------------------------\u001b[0m",
      "\u001b[0;31mValueError\u001b[0m                                Traceback (most recent call last)",
      "\u001b[0;32m/var/folders/_t/l6cr0r0d1m108xdrmrtz7stsb_csl0/T/ipykernel_36330/699905916.py\u001b[0m in \u001b[0;36m<module>\u001b[0;34m\u001b[0m\n\u001b[1;32m     23\u001b[0m \u001b[0;34m\u001b[0m\u001b[0m\n\u001b[1;32m     24\u001b[0m \u001b[0;34m\u001b[0m\u001b[0m\n\u001b[0;32m---> 25\u001b[0;31m \u001b[0mtemperature\u001b[0m \u001b[0;34m=\u001b[0m \u001b[0mCelsius\u001b[0m\u001b[0;34m(\u001b[0m\u001b[0mtemperature\u001b[0m\u001b[0;34m=\u001b[0m\u001b[0;34m-\u001b[0m\u001b[0;36m300\u001b[0m\u001b[0;34m)\u001b[0m\u001b[0;34m\u001b[0m\u001b[0;34m\u001b[0m\u001b[0m\n\u001b[0m\u001b[1;32m     26\u001b[0m \u001b[0mprint\u001b[0m\u001b[0;34m(\u001b[0m\u001b[0mtemperature\u001b[0m\u001b[0;34m.\u001b[0m\u001b[0mto_fahrenheit\u001b[0m\u001b[0;34m(\u001b[0m\u001b[0;34m)\u001b[0m\u001b[0;34m)\u001b[0m\u001b[0;34m\u001b[0m\u001b[0;34m\u001b[0m\u001b[0m\n\u001b[1;32m     27\u001b[0m \u001b[0mprint\u001b[0m\u001b[0;34m(\u001b[0m\u001b[0mtemperature\u001b[0m\u001b[0;34m.\u001b[0m\u001b[0mto_kelvin\u001b[0m\u001b[0;34m(\u001b[0m\u001b[0;34m)\u001b[0m\u001b[0;34m)\u001b[0m\u001b[0;34m\u001b[0m\u001b[0;34m\u001b[0m\u001b[0m\n",
      "\u001b[0;32m/var/folders/_t/l6cr0r0d1m108xdrmrtz7stsb_csl0/T/ipykernel_36330/699905916.py\u001b[0m in \u001b[0;36m__init__\u001b[0;34m(self, temperature)\u001b[0m\n\u001b[1;32m      3\u001b[0m \u001b[0;34m\u001b[0m\u001b[0m\n\u001b[1;32m      4\u001b[0m     \u001b[0;32mdef\u001b[0m \u001b[0m__init__\u001b[0m\u001b[0;34m(\u001b[0m\u001b[0mself\u001b[0m\u001b[0;34m,\u001b[0m \u001b[0mtemperature\u001b[0m\u001b[0;34m=\u001b[0m\u001b[0;36m0\u001b[0m\u001b[0;34m)\u001b[0m\u001b[0;34m:\u001b[0m\u001b[0;34m\u001b[0m\u001b[0;34m\u001b[0m\u001b[0m\n\u001b[0;32m----> 5\u001b[0;31m         \u001b[0mself\u001b[0m\u001b[0;34m.\u001b[0m\u001b[0mset_temperature\u001b[0m\u001b[0;34m(\u001b[0m\u001b[0mtemperature\u001b[0m\u001b[0;34m)\u001b[0m\u001b[0;34m\u001b[0m\u001b[0;34m\u001b[0m\u001b[0m\n\u001b[0m\u001b[1;32m      6\u001b[0m \u001b[0;34m\u001b[0m\u001b[0m\n\u001b[1;32m      7\u001b[0m     \u001b[0;32mdef\u001b[0m \u001b[0mset_temperature\u001b[0m\u001b[0;34m(\u001b[0m\u001b[0mself\u001b[0m\u001b[0;34m,\u001b[0m \u001b[0mtemperature\u001b[0m\u001b[0;34m)\u001b[0m\u001b[0;34m:\u001b[0m\u001b[0;34m\u001b[0m\u001b[0;34m\u001b[0m\u001b[0m\n",
      "\u001b[0;32m/var/folders/_t/l6cr0r0d1m108xdrmrtz7stsb_csl0/T/ipykernel_36330/699905916.py\u001b[0m in \u001b[0;36mset_temperature\u001b[0;34m(self, temperature)\u001b[0m\n\u001b[1;32m      7\u001b[0m     \u001b[0;32mdef\u001b[0m \u001b[0mset_temperature\u001b[0m\u001b[0;34m(\u001b[0m\u001b[0mself\u001b[0m\u001b[0;34m,\u001b[0m \u001b[0mtemperature\u001b[0m\u001b[0;34m)\u001b[0m\u001b[0;34m:\u001b[0m\u001b[0;34m\u001b[0m\u001b[0;34m\u001b[0m\u001b[0m\n\u001b[1;32m      8\u001b[0m         \u001b[0;32mif\u001b[0m \u001b[0mtemperature\u001b[0m \u001b[0;34m<\u001b[0m \u001b[0mself\u001b[0m\u001b[0;34m.\u001b[0m\u001b[0mlowest\u001b[0m\u001b[0;34m:\u001b[0m\u001b[0;34m\u001b[0m\u001b[0;34m\u001b[0m\u001b[0m\n\u001b[0;32m----> 9\u001b[0;31m             raise ValueError(\"temperature cannot be lower \"\n\u001b[0m\u001b[1;32m     10\u001b[0m                              f\"then {self.lowest} Celsius\")\n\u001b[1;32m     11\u001b[0m \u001b[0;34m\u001b[0m\u001b[0m\n",
      "\u001b[0;31mValueError\u001b[0m: temperature cannot be lower then -273.15 Celsius"
     ]
    }
   ],
   "source": [
    "class Celsius:\n",
    "    lowest = -273.15\n",
    "    \n",
    "    def __init__(self, temperature=0):\n",
    "        self.set_temperature(temperature)\n",
    "    \n",
    "    def set_temperature(self, temperature):\n",
    "        if temperature < self.lowest:\n",
    "            raise ValueError(\"temperature cannot be lower \"\n",
    "                             f\"then {self.lowest} Celsius\")\n",
    "        \n",
    "        self.temperature = temperature        \n",
    "    \n",
    "    def to_fahrenheit(self):\n",
    "        return (self.temperature * 1.8) + 32\n",
    "    \n",
    "    def to_kelvin(self):\n",
    "        return self.temperature + (-1*self.lowest)\n",
    "    \n",
    "temperature = Celsius()\n",
    "print(temperature.to_fahrenheit())\n",
    "print(temperature.to_kelvin())\n",
    "\n",
    "    \n",
    "temperature = Celsius(temperature=-300)\n",
    "print(temperature.to_fahrenheit())\n",
    "print(temperature.to_kelvin())"
   ]
  },
  {
   "cell_type": "code",
   "execution_count": 19,
   "id": "9fc08211-5b1a-4fb3-a1b1-f8e0fe3cffb8",
   "metadata": {},
   "outputs": [
    {
     "ename": "ValueError",
     "evalue": "temperature cannot be lower then -273.15 Celsius",
     "output_type": "error",
     "traceback": [
      "\u001b[0;31m---------------------------------------------------------------------------\u001b[0m",
      "\u001b[0;31mValueError\u001b[0m                                Traceback (most recent call last)",
      "\u001b[0;32m/var/folders/_t/l6cr0r0d1m108xdrmrtz7stsb_csl0/T/ipykernel_36330/3303459453.py\u001b[0m in \u001b[0;36m<module>\u001b[0;34m\u001b[0m\n\u001b[1;32m      1\u001b[0m \u001b[0mtemperature\u001b[0m \u001b[0;34m=\u001b[0m \u001b[0mCelsius\u001b[0m\u001b[0;34m(\u001b[0m\u001b[0;34m)\u001b[0m\u001b[0;34m\u001b[0m\u001b[0;34m\u001b[0m\u001b[0m\n\u001b[0;32m----> 2\u001b[0;31m \u001b[0mtemperature\u001b[0m\u001b[0;34m.\u001b[0m\u001b[0mset_temperature\u001b[0m\u001b[0;34m(\u001b[0m\u001b[0;34m-\u001b[0m\u001b[0;36m300\u001b[0m\u001b[0;34m)\u001b[0m\u001b[0;34m\u001b[0m\u001b[0;34m\u001b[0m\u001b[0m\n\u001b[0m\u001b[1;32m      3\u001b[0m \u001b[0mprint\u001b[0m\u001b[0;34m(\u001b[0m\u001b[0mtemperature\u001b[0m\u001b[0;34m.\u001b[0m\u001b[0mto_fahrenheit\u001b[0m\u001b[0;34m(\u001b[0m\u001b[0;34m)\u001b[0m\u001b[0;34m)\u001b[0m\u001b[0;34m\u001b[0m\u001b[0;34m\u001b[0m\u001b[0m\n\u001b[1;32m      4\u001b[0m \u001b[0mprint\u001b[0m\u001b[0;34m(\u001b[0m\u001b[0mtemperature\u001b[0m\u001b[0;34m.\u001b[0m\u001b[0mto_kelvin\u001b[0m\u001b[0;34m(\u001b[0m\u001b[0;34m)\u001b[0m\u001b[0;34m)\u001b[0m\u001b[0;34m\u001b[0m\u001b[0;34m\u001b[0m\u001b[0m\n",
      "\u001b[0;32m/var/folders/_t/l6cr0r0d1m108xdrmrtz7stsb_csl0/T/ipykernel_36330/699905916.py\u001b[0m in \u001b[0;36mset_temperature\u001b[0;34m(self, temperature)\u001b[0m\n\u001b[1;32m      7\u001b[0m     \u001b[0;32mdef\u001b[0m \u001b[0mset_temperature\u001b[0m\u001b[0;34m(\u001b[0m\u001b[0mself\u001b[0m\u001b[0;34m,\u001b[0m \u001b[0mtemperature\u001b[0m\u001b[0;34m)\u001b[0m\u001b[0;34m:\u001b[0m\u001b[0;34m\u001b[0m\u001b[0;34m\u001b[0m\u001b[0m\n\u001b[1;32m      8\u001b[0m         \u001b[0;32mif\u001b[0m \u001b[0mtemperature\u001b[0m \u001b[0;34m<\u001b[0m \u001b[0mself\u001b[0m\u001b[0;34m.\u001b[0m\u001b[0mlowest\u001b[0m\u001b[0;34m:\u001b[0m\u001b[0;34m\u001b[0m\u001b[0;34m\u001b[0m\u001b[0m\n\u001b[0;32m----> 9\u001b[0;31m             raise ValueError(\"temperature cannot be lower \"\n\u001b[0m\u001b[1;32m     10\u001b[0m                              f\"then {self.lowest} Celsius\")\n\u001b[1;32m     11\u001b[0m \u001b[0;34m\u001b[0m\u001b[0m\n",
      "\u001b[0;31mValueError\u001b[0m: temperature cannot be lower then -273.15 Celsius"
     ]
    }
   ],
   "source": [
    "temperature = Celsius()\n",
    "temperature.set_temperature(-300)\n",
    "print(temperature.to_fahrenheit())\n",
    "print(temperature.to_kelvin())"
   ]
  },
  {
   "cell_type": "markdown",
   "id": "8598b252-48de-444f-8c63-1bdb10203e1a",
   "metadata": {},
   "source": [
    "So adding the method for setting temperature seems to work fine. Note however 3 things;\n",
    "1. your user now has to rememeber to always use the `set_temperature` method instead of the much simpler attribute assignment\n",
    "2. you are using a method, which is intended for representing behavior, to update state.\n",
    "3. you can still easily create an error if you forget to use the method as shown below."
   ]
  },
  {
   "cell_type": "code",
   "execution_count": 20,
   "id": "07113081-ddb7-4a1f-aa0f-5c7ad0a87447",
   "metadata": {},
   "outputs": [
    {
     "name": "stdout",
     "output_type": "stream",
     "text": [
      "-508.0\n",
      "-26.850000000000023\n"
     ]
    }
   ],
   "source": [
    "temperature = Celsius()\n",
    "temperature.temperature = -300\n",
    "print(temperature.to_fahrenheit())\n",
    "print(temperature.to_kelvin())"
   ]
  },
  {
   "cell_type": "markdown",
   "id": "eebe800f-dd91-44af-8159-d0d5386427a0",
   "metadata": {},
   "source": [
    "So our fix did not really work. Ideally, we want to be able to use attribute assignment (i.e., `temperature.temperature. = -250`), yet still have this trigger a small bit of evaluative code for the check. Can this be done in Python?\n",
    "\n",
    "Yes we can do this in Python. There is a special language feature known as **properties** that allows us to do exactly this. The simplest way to use properties in Python is by using the `@property` annotation. Annotations are another Python language feature. Annotations are in essence convenient programming shorthands, or syntactic sugar, to make implementing something requiring less code. Fully understanding annotations, how they work, and how to create your own is well beyond this course. Outside of the `@property` annotations, you will not encounter them in this course. \n",
    "\n",
    "If we want to say that a given attribute is a property, we need to specify a setter method and a getter method. The getter uses the `@property` annotation. The name of the method underneath the annotation becomes the name of the property. Next, we also have to create a setter method and link this to our property. We do this by using the `@n{name of property}.setter` syntax. Whenever we try to retrieve `temperature` as if it is an attribute, Python will actually call the `temperature` method for us. Likewise, whenever we want to assign a new value to the attribute, Python will actually call the setter method for us. \n",
    "\n",
    "A last thing to note is that we cannot have an attribute and a property with the same name on a class. Since we want to use temperature as the name of the property, we need to assign the value to an attribute that is named differently. It is convention in Python to use `_{name of property}` for this, so `_temperature` in this case. "
   ]
  },
  {
   "cell_type": "code",
   "execution_count": 26,
   "id": "aaefd280-a64e-4ecb-ae76-33f10d4b0cac",
   "metadata": {},
   "outputs": [
    {
     "name": "stdout",
     "output_type": "stream",
     "text": [
      "32.0\n",
      "273.15\n"
     ]
    },
    {
     "ename": "ValueError",
     "evalue": "temperature cannot be lower then -273.15 Celsius",
     "output_type": "error",
     "traceback": [
      "\u001b[0;31m---------------------------------------------------------------------------\u001b[0m",
      "\u001b[0;31mValueError\u001b[0m                                Traceback (most recent call last)",
      "\u001b[0;32m/var/folders/_t/l6cr0r0d1m108xdrmrtz7stsb_csl0/T/ipykernel_36330/3444299030.py\u001b[0m in \u001b[0;36m<module>\u001b[0;34m\u001b[0m\n\u001b[1;32m     29\u001b[0m \u001b[0;34m\u001b[0m\u001b[0m\n\u001b[1;32m     30\u001b[0m \u001b[0;34m\u001b[0m\u001b[0m\n\u001b[0;32m---> 31\u001b[0;31m \u001b[0mtemperature\u001b[0m \u001b[0;34m=\u001b[0m \u001b[0mCelsius\u001b[0m\u001b[0;34m(\u001b[0m\u001b[0mtemperature\u001b[0m\u001b[0;34m=\u001b[0m\u001b[0;34m-\u001b[0m\u001b[0;36m300\u001b[0m\u001b[0;34m)\u001b[0m\u001b[0;34m\u001b[0m\u001b[0;34m\u001b[0m\u001b[0m\n\u001b[0m\u001b[1;32m     32\u001b[0m \u001b[0mprint\u001b[0m\u001b[0;34m(\u001b[0m\u001b[0mtemperature\u001b[0m\u001b[0;34m.\u001b[0m\u001b[0mto_fahrenheit\u001b[0m\u001b[0;34m(\u001b[0m\u001b[0;34m)\u001b[0m\u001b[0;34m)\u001b[0m\u001b[0;34m\u001b[0m\u001b[0;34m\u001b[0m\u001b[0m\n\u001b[1;32m     33\u001b[0m \u001b[0mprint\u001b[0m\u001b[0;34m(\u001b[0m\u001b[0mtemperature\u001b[0m\u001b[0;34m.\u001b[0m\u001b[0mto_kelvin\u001b[0m\u001b[0;34m(\u001b[0m\u001b[0;34m)\u001b[0m\u001b[0;34m)\u001b[0m\u001b[0;34m\u001b[0m\u001b[0;34m\u001b[0m\u001b[0m\n",
      "\u001b[0;32m/var/folders/_t/l6cr0r0d1m108xdrmrtz7stsb_csl0/T/ipykernel_36330/3444299030.py\u001b[0m in \u001b[0;36m__init__\u001b[0;34m(self, temperature)\u001b[0m\n\u001b[1;32m     16\u001b[0m \u001b[0;34m\u001b[0m\u001b[0m\n\u001b[1;32m     17\u001b[0m     \u001b[0;32mdef\u001b[0m \u001b[0m__init__\u001b[0m\u001b[0;34m(\u001b[0m\u001b[0mself\u001b[0m\u001b[0;34m,\u001b[0m \u001b[0mtemperature\u001b[0m\u001b[0;34m=\u001b[0m\u001b[0;36m0\u001b[0m\u001b[0;34m)\u001b[0m\u001b[0;34m:\u001b[0m\u001b[0;34m\u001b[0m\u001b[0;34m\u001b[0m\u001b[0m\n\u001b[0;32m---> 18\u001b[0;31m         \u001b[0mself\u001b[0m\u001b[0;34m.\u001b[0m\u001b[0mtemperature\u001b[0m \u001b[0;34m=\u001b[0m \u001b[0mtemperature\u001b[0m\u001b[0;34m\u001b[0m\u001b[0;34m\u001b[0m\u001b[0m\n\u001b[0m\u001b[1;32m     19\u001b[0m \u001b[0;34m\u001b[0m\u001b[0m\n\u001b[1;32m     20\u001b[0m     \u001b[0;32mdef\u001b[0m \u001b[0mto_fahrenheit\u001b[0m\u001b[0;34m(\u001b[0m\u001b[0mself\u001b[0m\u001b[0;34m)\u001b[0m\u001b[0;34m:\u001b[0m\u001b[0;34m\u001b[0m\u001b[0;34m\u001b[0m\u001b[0m\n",
      "\u001b[0;32m/var/folders/_t/l6cr0r0d1m108xdrmrtz7stsb_csl0/T/ipykernel_36330/3444299030.py\u001b[0m in \u001b[0;36mtemperature\u001b[0;34m(self, temperature)\u001b[0m\n\u001b[1;32m      9\u001b[0m     \u001b[0;32mdef\u001b[0m \u001b[0mtemperature\u001b[0m\u001b[0;34m(\u001b[0m\u001b[0mself\u001b[0m\u001b[0;34m,\u001b[0m \u001b[0mtemperature\u001b[0m\u001b[0;34m)\u001b[0m\u001b[0;34m:\u001b[0m\u001b[0;34m\u001b[0m\u001b[0;34m\u001b[0m\u001b[0m\n\u001b[1;32m     10\u001b[0m         \u001b[0;32mif\u001b[0m \u001b[0mtemperature\u001b[0m \u001b[0;34m<\u001b[0m \u001b[0mself\u001b[0m\u001b[0;34m.\u001b[0m\u001b[0mlowest\u001b[0m\u001b[0;34m:\u001b[0m\u001b[0;34m\u001b[0m\u001b[0;34m\u001b[0m\u001b[0m\n\u001b[0;32m---> 11\u001b[0;31m             raise ValueError(\"temperature cannot be lower \"\n\u001b[0m\u001b[1;32m     12\u001b[0m                              f\"then {self.lowest} Celsius\")\n\u001b[1;32m     13\u001b[0m \u001b[0;34m\u001b[0m\u001b[0m\n",
      "\u001b[0;31mValueError\u001b[0m: temperature cannot be lower then -273.15 Celsius"
     ]
    }
   ],
   "source": [
    "class Celsius:\n",
    "    lowest = -273.15\n",
    "    \n",
    "    @property\n",
    "    def temperature(self):\n",
    "        return self._temperature\n",
    "    \n",
    "    @temperature.setter\n",
    "    def temperature(self, temperature):\n",
    "        if temperature < self.lowest:\n",
    "            raise ValueError(\"temperature cannot be lower \"\n",
    "                             f\"then {self.lowest} Celsius\")\n",
    "\n",
    "        self._temperature = temperature            \n",
    "    \n",
    "    \n",
    "    def __init__(self, temperature=0):\n",
    "        self.temperature = temperature\n",
    "    \n",
    "    def to_fahrenheit(self):\n",
    "        return (self.temperature * 1.8) + 32\n",
    "    \n",
    "    def to_kelvin(self):\n",
    "        return self.temperature + (-1*self.lowest)\n",
    "    \n",
    "temperature = Celsius()\n",
    "print(temperature.to_fahrenheit())\n",
    "print(temperature.to_kelvin())\n",
    "\n",
    "    \n",
    "temperature = Celsius(temperature=-300)\n",
    "print(temperature.to_fahrenheit())\n",
    "print(temperature.to_kelvin())"
   ]
  },
  {
   "cell_type": "code",
   "execution_count": 27,
   "id": "06a43b81-eff7-46d8-af6a-a97b8e88641e",
   "metadata": {},
   "outputs": [
    {
     "ename": "ValueError",
     "evalue": "temperature cannot be lower then -273.15 Celsius",
     "output_type": "error",
     "traceback": [
      "\u001b[0;31m---------------------------------------------------------------------------\u001b[0m",
      "\u001b[0;31mValueError\u001b[0m                                Traceback (most recent call last)",
      "\u001b[0;32m/var/folders/_t/l6cr0r0d1m108xdrmrtz7stsb_csl0/T/ipykernel_36330/1685923559.py\u001b[0m in \u001b[0;36m<module>\u001b[0;34m\u001b[0m\n\u001b[1;32m      1\u001b[0m \u001b[0mtemperature\u001b[0m \u001b[0;34m=\u001b[0m \u001b[0mCelsius\u001b[0m\u001b[0;34m(\u001b[0m\u001b[0;34m)\u001b[0m\u001b[0;34m\u001b[0m\u001b[0;34m\u001b[0m\u001b[0m\n\u001b[0;32m----> 2\u001b[0;31m \u001b[0mtemperature\u001b[0m\u001b[0;34m.\u001b[0m\u001b[0mtemperature\u001b[0m \u001b[0;34m=\u001b[0m \u001b[0;34m-\u001b[0m\u001b[0;36m300\u001b[0m\u001b[0;34m\u001b[0m\u001b[0;34m\u001b[0m\u001b[0m\n\u001b[0m\u001b[1;32m      3\u001b[0m \u001b[0mprint\u001b[0m\u001b[0;34m(\u001b[0m\u001b[0mtemperature\u001b[0m\u001b[0;34m.\u001b[0m\u001b[0mto_fahrenheit\u001b[0m\u001b[0;34m(\u001b[0m\u001b[0;34m)\u001b[0m\u001b[0;34m)\u001b[0m\u001b[0;34m\u001b[0m\u001b[0;34m\u001b[0m\u001b[0m\n\u001b[1;32m      4\u001b[0m \u001b[0mprint\u001b[0m\u001b[0;34m(\u001b[0m\u001b[0mtemperature\u001b[0m\u001b[0;34m.\u001b[0m\u001b[0mto_kelvin\u001b[0m\u001b[0;34m(\u001b[0m\u001b[0;34m)\u001b[0m\u001b[0;34m)\u001b[0m\u001b[0;34m\u001b[0m\u001b[0;34m\u001b[0m\u001b[0m\n",
      "\u001b[0;32m/var/folders/_t/l6cr0r0d1m108xdrmrtz7stsb_csl0/T/ipykernel_36330/3444299030.py\u001b[0m in \u001b[0;36mtemperature\u001b[0;34m(self, temperature)\u001b[0m\n\u001b[1;32m      9\u001b[0m     \u001b[0;32mdef\u001b[0m \u001b[0mtemperature\u001b[0m\u001b[0;34m(\u001b[0m\u001b[0mself\u001b[0m\u001b[0;34m,\u001b[0m \u001b[0mtemperature\u001b[0m\u001b[0;34m)\u001b[0m\u001b[0;34m:\u001b[0m\u001b[0;34m\u001b[0m\u001b[0;34m\u001b[0m\u001b[0m\n\u001b[1;32m     10\u001b[0m         \u001b[0;32mif\u001b[0m \u001b[0mtemperature\u001b[0m \u001b[0;34m<\u001b[0m \u001b[0mself\u001b[0m\u001b[0;34m.\u001b[0m\u001b[0mlowest\u001b[0m\u001b[0;34m:\u001b[0m\u001b[0;34m\u001b[0m\u001b[0;34m\u001b[0m\u001b[0m\n\u001b[0;32m---> 11\u001b[0;31m             raise ValueError(\"temperature cannot be lower \"\n\u001b[0m\u001b[1;32m     12\u001b[0m                              f\"then {self.lowest} Celsius\")\n\u001b[1;32m     13\u001b[0m \u001b[0;34m\u001b[0m\u001b[0m\n",
      "\u001b[0;31mValueError\u001b[0m: temperature cannot be lower then -273.15 Celsius"
     ]
    }
   ],
   "source": [
    "temperature = Celsius()\n",
    "temperature.temperature = -300\n",
    "print(temperature.to_fahrenheit())\n",
    "print(temperature.to_kelvin())"
   ]
  },
  {
   "cell_type": "markdown",
   "id": "8aad009a-7d76-4dc9-8f87-05e6c49b91ca",
   "metadata": {},
   "source": [
    "Let us recap. we started this tutorial with the following problem: can we update the state of an object but while updating this check if the provided new value is valid? As we have seen, yes this is possible in Python by using properties. \n",
    "\n",
    "However, checking the validity of values when changing state is but one of the use cases for properties. Two other relevant use cases are\n",
    "1. various attributes are directly related to each other. For example, you have an agent moving on a circle. You can express its position in radians but for e.g., visualization you want to know the x and y coordinates. You can then use properties for the x and y coordinates that on the fly calculate them when needed.\n",
    "2. you initially implemented something as an attribute but later realize you need to add some code to it as well. Changing the attribute to a method would require changes elsewhere in your code as well. Properties allow you to make the change in one place only and not braking the rest of your code base\n"
   ]
  },
  {
   "cell_type": "code",
   "execution_count": null,
   "id": "ffa53c14-b0d3-42fb-8239-b731db998fda",
   "metadata": {},
   "outputs": [],
   "source": []
  }
 ],
 "metadata": {
  "kernelspec": {
   "display_name": "Python 3 (ipykernel)",
   "language": "python",
   "name": "python3"
  },
  "language_info": {
   "codemirror_mode": {
    "name": "ipython",
    "version": 3
   },
   "file_extension": ".py",
   "mimetype": "text/x-python",
   "name": "python",
   "nbconvert_exporter": "python",
   "pygments_lexer": "ipython3",
   "version": "3.8.5"
  }
 },
 "nbformat": 4,
 "nbformat_minor": 5
}
